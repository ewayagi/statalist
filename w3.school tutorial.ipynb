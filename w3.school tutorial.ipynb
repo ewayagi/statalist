{
 "cells": [
  {
   "cell_type": "markdown",
   "id": "f61b6c46",
   "metadata": {},
   "source": [
    "# w3 - school tutorial \n",
    "**I am an expert in data analysis with python language**"
   ]
  },
  {
   "cell_type": "code",
   "execution_count": 6,
   "id": "d4884316",
   "metadata": {},
   "outputs": [
    {
     "name": "stdout",
     "output_type": "stream",
     "text": [
      "Emmanue Ouma\n",
      "learning python\n"
     ]
    }
   ],
   "source": [
    "# simple sintax\n",
    "my_name = \"Emmanue Ouma\"\n",
    "passion = \"learning python\"\n",
    "print(my_name)\n",
    "print(passion)"
   ]
  },
  {
   "cell_type": "code",
   "execution_count": 12,
   "id": "a742a0cf",
   "metadata": {},
   "outputs": [
    {
     "name": "stdout",
     "output_type": "stream",
     "text": [
      "ten is less than nineteen!\n"
     ]
    }
   ],
   "source": [
    "# indentation - shows block of codes\n",
    "if 10 > 19:\n",
    "    print(\"ten is greater than nineteen!\")\n",
    "else:\n",
    "    print(\"ten is less than nineteen!\")"
   ]
  },
  {
   "cell_type": "code",
   "execution_count": 16,
   "id": "40887c49",
   "metadata": {
    "scrolled": false
   },
   "outputs": [],
   "source": [
    "# comments \n",
    "# single line comment (#)\n",
    "# KES. 500,000 is my monthly net salary \n",
    "\n",
    "# multiple line comments (Press C+/)\n",
    "# note that the \"\"\" DOES NOT work like in the python app\n",
    "\n",
    "# I am driving my dream car.\n",
    "# a RANGE ROVER sports.\n",
    "# white with tinted windows.\n",
    "# tubeless with white leather seat.\n",
    "# passanger or backleft seat is preserved for my beautiful queen.\n",
    "# YES\n"
   ]
  },
  {
   "cell_type": "code",
   "execution_count": 19,
   "id": "bc016e44",
   "metadata": {},
   "outputs": [
    {
     "name": "stdout",
     "output_type": "stream",
     "text": [
      "5 5.0 5\n",
      "<class 'str'>\n",
      "<class 'float'>\n",
      "<class 'int'>\n"
     ]
    }
   ],
   "source": [
    "# types of variables \n",
    "# create a variable by CASTING (simply specifying the type to a variable)\n",
    "a = str(5)\n",
    "A = float(5)\n",
    "aa = int(5)\n",
    "print(a, A, aa)\n",
    "print(type(a))\n",
    "print(type(A))\n",
    "print(type(aa))"
   ]
  },
  {
   "cell_type": "code",
   "execution_count": 22,
   "id": "b30d0642",
   "metadata": {},
   "outputs": [
    {
     "name": "stdout",
     "output_type": "stream",
     "text": [
      "emmanuel ouma wayagi\n",
      "emmanueloumawayagi\n"
     ]
    }
   ],
   "source": [
    "# combining variables\n",
    "e = \"emmanuel\"\n",
    "o = \"ouma\"\n",
    "w = \"wayagi\"\n",
    "print(e, o, w)\n",
    "print(e + o + w)"
   ]
  },
  {
   "cell_type": "code",
   "execution_count": 29,
   "id": "b16d9051",
   "metadata": {},
   "outputs": [
    {
     "name": "stdout",
     "output_type": "stream",
     "text": [
      "34000.0\n",
      "<class 'float'>\n"
     ]
    }
   ],
   "source": [
    "# DATA types\n",
    "# 1. NUMERIC TYPE (int, float and complex)\n",
    "# e.g 5, 5.4, 5j respectively \n",
    "\n",
    "# the float type is sometimes written with an \"e\" to indicate the power of 10\n",
    "# e.g \n",
    "q = 34e3\n",
    "print(q)\n",
    "print(type(q))"
   ]
  },
  {
   "cell_type": "code",
   "execution_count": 35,
   "id": "06cd3c07",
   "metadata": {},
   "outputs": [
    {
     "name": "stdout",
     "output_type": "stream",
     "text": [
      "<class 'int'>\n",
      "<class 'float'>\n",
      "<class 'complex'>\n",
      "34.0\n",
      "3\n",
      "(3.4+0j)\n",
      "<class 'float'>\n",
      "<class 'int'>\n",
      "<class 'complex'>\n"
     ]
    }
   ],
   "source": [
    "# converting numeric types\n",
    "q = 34\n",
    "r = 3.4\n",
    "s = 3j\n",
    "\n",
    "print(type(q))\n",
    "print(type(r))\n",
    "print(type(s))\n",
    "\n",
    "# converting\n",
    "u = float(q)\n",
    "v = int(r)\n",
    "w = complex(r)\n",
    "\n",
    "print(u)\n",
    "print(v)\n",
    "print(w)\n",
    "\n",
    "print(type(u))\n",
    "print(type(v))\n",
    "print(type(w))"
   ]
  },
  {
   "cell_type": "code",
   "execution_count": 40,
   "id": "07948621",
   "metadata": {},
   "outputs": [
    {
     "name": "stdout",
     "output_type": "stream",
     "text": [
      "795\n"
     ]
    }
   ],
   "source": [
    "# Random numbers\n",
    "# this returns any random number within the specified range\n",
    "import random as rd\n",
    "print(rd.randrange(100,1000))"
   ]
  },
  {
   "cell_type": "code",
   "execution_count": 42,
   "id": "f82cbf0a",
   "metadata": {},
   "outputs": [
    {
     "name": "stdout",
     "output_type": "stream",
     "text": [
      "s\n"
     ]
    }
   ],
   "source": [
    "# 2. STRING TYPE (variable in single or double quotations)\n",
    "i_am = \"blessed\"\n",
    "\n",
    "# accessing elements in a string \n",
    "print(i_am[-2]) # returns the 2nd last letter \n",
    "# start from looping "
   ]
  }
 ],
 "metadata": {
  "kernelspec": {
   "display_name": "Python 3 (ipykernel)",
   "language": "python",
   "name": "python3"
  },
  "language_info": {
   "codemirror_mode": {
    "name": "ipython",
    "version": 3
   },
   "file_extension": ".py",
   "mimetype": "text/x-python",
   "name": "python",
   "nbconvert_exporter": "python",
   "pygments_lexer": "ipython3",
   "version": "3.9.13"
  }
 },
 "nbformat": 4,
 "nbformat_minor": 5
}
