{
 "cells": [
  {
   "cell_type": "markdown",
   "id": "93c0c1b3",
   "metadata": {},
   "source": [
    "# Normality test"
   ]
  },
  {
   "cell_type": "markdown",
   "id": "6555f6d6",
   "metadata": {},
   "source": [
    "# 1. Normality test for Continuous variable"
   ]
  },
  {
   "cell_type": "code",
   "execution_count": 1,
   "id": "eadd4f05",
   "metadata": {},
   "outputs": [
    {
     "data": {
      "text/plain": [
       "'\\nNormality assumption ensures that the dataset (samples) are withdrawn from \\nnormally distributed populations.You can check this on a specifc variable \\nor more significantly on the distributions of parameters or the \\nestimators(βs) of the regression, such as OLS. In this notebook, I illustrate \\nhow to test Normality at a variable level. I also write the codes for \\nCentral Limit Theorem (CLT). \\n'"
      ]
     },
     "execution_count": 1,
     "metadata": {},
     "output_type": "execute_result"
    }
   ],
   "source": [
    "#============================Background Notes==================================#\n",
    "'''\n",
    "Normality assumption ensures that the dataset (samples) are withdrawn from \n",
    "normally distributed populations.You can check this on a specifc variable \n",
    "or more significantly on the distributions of parameters or the \n",
    "estimators(βs) of the regression, such as OLS. In this notebook, I illustrate \n",
    "how to test Normality at a variable level. I also write the codes for \n",
    "Central Limit Theorem (CLT). \n",
    "'''"
   ]
  },
  {
   "cell_type": "code",
   "execution_count": 2,
   "id": "3ebe7812",
   "metadata": {},
   "outputs": [],
   "source": [
    "#============================libraries========================================#\n",
    "import numpy as np\n",
    "import pandas as pd\n",
    "import statsmodels.api as sm\n",
    "import matplotlib.pyplot as plt"
   ]
  },
  {
   "cell_type": "code",
   "execution_count": 4,
   "id": "de591b49",
   "metadata": {
    "collapsed": true
   },
   "outputs": [
    {
     "name": "stdout",
     "output_type": "stream",
     "text": [
      "      wage  hours     IQ    KWW   educ  exper  tenure    age  married  black  \\\n",
      "0    False  False  False  False  False  False   False  False    False  False   \n",
      "1    False  False  False  False  False  False   False  False    False  False   \n",
      "2    False  False  False  False  False  False   False  False    False  False   \n",
      "3    False  False  False  False  False  False   False  False    False  False   \n",
      "4    False  False  False  False  False  False   False  False    False  False   \n",
      "..     ...    ...    ...    ...    ...    ...     ...    ...      ...    ...   \n",
      "930  False  False  False  False  False  False   False  False    False  False   \n",
      "931  False  False  False  False  False  False   False  False    False  False   \n",
      "932  False  False  False  False  False  False   False  False    False  False   \n",
      "933  False  False  False  False  False  False   False  False    False  False   \n",
      "934  False  False  False  False  False  False   False  False    False  False   \n",
      "\n",
      "     south  urban   sibs  brthord  meduc  feduc  lwage  \n",
      "0    False  False  False    False  False  False  False  \n",
      "1    False  False  False     True  False  False  False  \n",
      "2    False  False  False    False  False  False  False  \n",
      "3    False  False  False    False  False  False  False  \n",
      "4    False  False  False    False  False  False  False  \n",
      "..     ...    ...    ...      ...    ...    ...    ...  \n",
      "930  False  False  False    False  False   True  False  \n",
      "931  False  False  False    False  False  False  False  \n",
      "932  False  False  False     True  False   True  False  \n",
      "933  False  False  False    False   True  False  False  \n",
      "934  False  False  False    False   True   True  False  \n",
      "\n",
      "[935 rows x 17 columns]\n",
      "['wage' 'hours' 'IQ' 'KWW' 'educ' 'exper' 'tenure' 'age' 'married' 'black'\n",
      " 'south' 'urban' 'sibs' 'brthord' 'meduc' 'feduc' 'lwage']\n",
      "<class 'pandas.core.frame.DataFrame'>\n",
      "wage         int64\n",
      "hours        int64\n",
      "IQ           int64\n",
      "KWW          int64\n",
      "educ         int64\n",
      "exper        int64\n",
      "tenure       int64\n",
      "age          int64\n",
      "married      int64\n",
      "black        int64\n",
      "south        int64\n",
      "urban        int64\n",
      "sibs         int64\n",
      "brthord    float64\n",
      "meduc      float64\n",
      "feduc      float64\n",
      "lwage      float64\n",
      "dtype: object\n",
      "              wage       hours          IQ         KWW        educ  \\\n",
      "count   663.000000  663.000000  663.000000  663.000000  663.000000   \n",
      "mean    988.475113   44.061840  102.481146   36.194570   13.680241   \n",
      "std     406.511512    7.159856   14.686117    7.529188    2.231406   \n",
      "min     115.000000   25.000000   54.000000   13.000000    9.000000   \n",
      "25%     699.000000   40.000000   94.000000   32.000000   12.000000   \n",
      "50%     937.000000   40.000000  104.000000   37.000000   13.000000   \n",
      "75%    1200.000000   48.000000  113.000000   41.000000   16.000000   \n",
      "max    3078.000000   80.000000  145.000000   56.000000   18.000000   \n",
      "\n",
      "            exper      tenure         age     married       black       south  \\\n",
      "count  663.000000  663.000000  663.000000  663.000000  663.000000  663.000000   \n",
      "mean    11.396682    7.217195   32.983409    0.900452    0.081448    0.322775   \n",
      "std      4.258397    5.055690    3.062989    0.299622    0.273728    0.467891   \n",
      "min      1.000000    0.000000   28.000000    0.000000    0.000000    0.000000   \n",
      "25%      8.000000    3.000000   30.000000    1.000000    0.000000    0.000000   \n",
      "50%     11.000000    7.000000   33.000000    1.000000    0.000000    0.000000   \n",
      "75%     15.000000   11.000000   36.000000    1.000000    0.000000    1.000000   \n",
      "max     22.000000   22.000000   38.000000    1.000000    1.000000    1.000000   \n",
      "\n",
      "            urban        sibs     brthord       meduc       feduc       lwage  \n",
      "count  663.000000  663.000000  663.000000  663.000000  663.000000  663.000000  \n",
      "mean     0.719457    2.846154    2.177979   10.828054   10.273002    6.814297  \n",
      "std      0.449604    2.240896    1.487612    2.823188    3.288170    0.412206  \n",
      "min      0.000000    0.000000    1.000000    0.000000    0.000000    4.744932  \n",
      "25%      0.000000    1.000000    1.000000    9.000000    8.000000    6.549650  \n",
      "50%      1.000000    2.000000    2.000000   12.000000   11.000000    6.842683  \n",
      "75%      1.000000    4.000000    3.000000   12.000000   12.000000    7.090077  \n",
      "max      1.000000   14.000000   10.000000   18.000000   18.000000    8.032035  \n"
     ]
    }
   ],
   "source": [
    "#=============================loading data from R=============================#\n",
    "mydata = sm.datasets.get_rdataset(\"wage2\", \"wooldridge\").data\n",
    "# '.data' converts our data into a dataframe \n",
    "# wage2 is the name of the data\n",
    "# wooldridge is the R library containing the data\n",
    "\n",
    "#=========================exploring the data==================================#\n",
    "# check missing values \n",
    "print(mydata.isnull())\n",
    "\n",
    "#dropping the missing values \n",
    "mydata = mydata.dropna()\n",
    "\n",
    "#displaying data columns \n",
    "pd.set_option('display.max_columns', None)\n",
    "print(mydata.columns.values)\n",
    "print(type(mydata))\n",
    "print(mydata.dtypes)\n",
    "print(mydata.describe())"
   ]
  },
  {
   "cell_type": "code",
   "execution_count": 5,
   "id": "45742d91",
   "metadata": {
    "collapsed": true
   },
   "outputs": [
    {
     "name": "stdout",
     "output_type": "stream",
     "text": [
      "wage       988.475113\n",
      "hours       44.061840\n",
      "IQ         102.481146\n",
      "KWW         36.194570\n",
      "educ        13.680241\n",
      "exper       11.396682\n",
      "tenure       7.217195\n",
      "age         32.983409\n",
      "married      0.900452\n",
      "black        0.081448\n",
      "south        0.322775\n",
      "urban        0.719457\n",
      "sibs         2.846154\n",
      "brthord      2.177979\n",
      "meduc       10.828054\n",
      "feduc       10.273002\n",
      "lwage        6.814297\n",
      "dtype: float64\n",
      "988.4751131221719\n",
      "937.0\n",
      "ModeResult(mode=array([1000], dtype=int64), count=array([22]))\n",
      "406.2048264047582\n",
      "165002.36099451972\n",
      "699.0\n"
     ]
    },
    {
     "name": "stderr",
     "output_type": "stream",
     "text": [
      "C:\\Users\\user\\AppData\\Local\\Temp\\ipykernel_3960\\1148768607.py:15: FutureWarning: Unlike other reduction functions (e.g. `skew`, `kurtosis`), the default behavior of `mode` typically preserves the axis it acts along. In SciPy 1.11.0, this behavior will change: the default value of `keepdims` will become False, the `axis` over which the statistic is taken will be eliminated, and the value None will no longer be accepted. Set `keepdims` to True or False to avoid this warning.\n",
      "  mode_wage = stats.mode(mydata['wage'])\n"
     ]
    }
   ],
   "source": [
    "#================================CLT=========================================#\n",
    "# mean\n",
    "print(mydata.mean())\n",
    "\n",
    "mean_wage = np.mean(mydata['wage'])\n",
    "print(mean_wage)\n",
    "\n",
    "# median \n",
    "median_wage = np.median(mydata['wage'])\n",
    "print(median_wage)\n",
    "\n",
    "# mode\n",
    "from scipy import stats\n",
    "\n",
    "mode_wage = stats.mode(mydata['wage'])\n",
    "print(mode_wage)\n",
    "\n",
    "# std dev\n",
    "std_wage = np.std(mydata['wage'])\n",
    "print(std_wage)\n",
    "\n",
    "# variance\n",
    "var_wage = np.var(mydata['wage'])\n",
    "print(var_wage)\n",
    "\n",
    "# percentile\n",
    "fifty_wage = np.percentile(mydata['wage'], 25)\n",
    "print(fifty_wage)"
   ]
  },
  {
   "cell_type": "code",
   "execution_count": 6,
   "id": "aae64eee",
   "metadata": {
    "collapsed": true
   },
   "outputs": [
    {
     "data": {
      "image/png": "[encoded data removed]",
      "text/plain": [
       "<Figure size 640x480 with 1 Axes>"
      ]
     },
     "metadata": {},
     "output_type": "display_data"
    },
    {
     "data": {
      "image/png": "[encoded data removed]",
      "text/plain": [
       "<Figure size 640x480 with 1 Axes>"
      ]
     },
     "metadata": {},
     "output_type": "display_data"
    }
   ],
   "source": [
    "#==============================normality test=================================#\n",
    "#==============================data visualization=============================#\n",
    "# 1. plots \n",
    "# histogram \n",
    "plt.hist(mydata['wage'])\n",
    "plt.show()\n",
    "\n",
    "'''\n",
    "OR\n",
    "mydata.hist('wage')\n",
    "'''\n",
    "# qqplot\n",
    "sm.qqplot(mydata['wage'], line = '45')\n",
    "plt.show()"
   ]
  },
  {
   "cell_type": "code",
   "execution_count": 7,
   "id": "b2074cb4",
   "metadata": {},
   "outputs": [
    {
     "name": "stdout",
     "output_type": "stream",
     "text": [
      "1.1548992964409004\n",
      "2.4388815210738937\n"
     ]
    }
   ],
   "source": [
    "#========================probability distribution test========================#\n",
    "# 2. skewness and kurtosis on wage\n",
    "from scipy.stats import skew, kurtosis\n",
    "\n",
    "# skewness\n",
    "skew_wage = skew(mydata['wage'], bias = False)\n",
    "print(skew_wage)\n",
    "\n",
    "# kurtosis\n",
    "kurto_wage = kurtosis(mydata['wage'], bias = False)\n",
    "print(kurto_wage)"
   ]
  },
  {
   "cell_type": "code",
   "execution_count": 8,
   "id": "a3ecae92",
   "metadata": {},
   "outputs": [
    {
     "name": "stdout",
     "output_type": "stream",
     "text": [
      "ShapiroResult(statistic=0.9380210041999817, pvalue=5.576400115392508e-16)\n",
      "AndersonResult(statistic=7.319449935054081, critical_values=array([0.573, 0.652, 0.782, 0.913, 1.086]), significance_level=array([15. , 10. ,  5. ,  2.5,  1. ]))\n",
      "KstestResult(statistic=1.0, pvalue=0.0)\n"
     ]
    }
   ],
   "source": [
    "#===================statistical tests for normality===========================#\n",
    "# 3. Shapiro-Wilks normality test\n",
    "\n",
    "from scipy.stats import shapiro, anderson, kstest\n",
    "\n",
    "shapiro_wage = shapiro(mydata['wage'])\n",
    "print(shapiro_wage)\n",
    "\n",
    "# 4. Anderson-Darling normality test \n",
    "anderson_wage = anderson(mydata['wage'])\n",
    "print(anderson_wage)\n",
    "\n",
    "# 5. Kolmogorov-Smirnov Test\n",
    "kolmogrov_wage = kstest(mydata['wage'], 'norm')\n",
    "print(kolmogrov_wage)\n",
    "\n",
    "# What is your conclusion on normality test for wage variable?\n",
    "#================================END==========================================#"
   ]
  }
 ],
 "metadata": {
  "kernelspec": {
   "display_name": "Python 3 (ipykernel)",
   "language": "python",
   "name": "python3"
  },
  "language_info": {
   "codemirror_mode": {
    "name": "ipython",
    "version": 3
   },
   "file_extension": ".py",
   "mimetype": "text/x-python",
   "name": "python",
   "nbconvert_exporter": "python",
   "pygments_lexer": "ipython3",
   "version": "3.9.13"
  }
 },
 "nbformat": 4,
 "nbformat_minor": 5
}
